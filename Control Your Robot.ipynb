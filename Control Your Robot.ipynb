{
  "nbformat": 4,
  "nbformat_minor": 0,
  "metadata": {
    "colab": {
      "provenance": [],
      "authorship_tag": "ABX9TyM6eoB5QCPyOysoz/Mm+2bt",
      "include_colab_link": true
    },
    "kernelspec": {
      "name": "python3",
      "display_name": "Python 3"
    },
    "language_info": {
      "name": "python"
    }
  },
  "cells": [
    {
      "cell_type": "markdown",
      "metadata": {
        "id": "view-in-github",
        "colab_type": "text"
      },
      "source": [
        "<a href=\"https://colab.research.google.com/github/yaswhar/learning-genesis-sim/blob/main/Control%20Your%20Robot.ipynb\" target=\"_parent\"><img src=\"https://colab.research.google.com/assets/colab-badge.svg\" alt=\"Open In Colab\"/></a>"
      ]
    },
    {
      "cell_type": "code",
      "execution_count": null,
      "metadata": {
        "id": "RTMwVFk_NdMq"
      },
      "outputs": [],
      "source": [
        "!pip install genesis-world -q\n",
        "!pip install mediapy -q"
      ]
    },
    {
      "cell_type": "code",
      "source": [
        "import os\n",
        "NVIDIA_ICD_CONFIG_PATH = '/usr/share/glvnd/egl_vendor.d/10_nvidia.json'\n",
        "ICD_CONFIG_CONTENT = \"\"\"{\n",
        "    \"file_format_version\" : \"1.0.0\",\n",
        "    \"ICD\" : {\n",
        "        \"library_path\" : \"libEGL_nvidia.so.0\"\n",
        "    }\n",
        "}\n",
        "\"\"\"\n",
        "with open(NVIDIA_ICD_CONFIG_PATH, 'w') as f:\n",
        "    f.write(ICD_CONFIG_CONTENT)"
      ],
      "metadata": {
        "id": "Y_5HqjwuNzE-"
      },
      "execution_count": null,
      "outputs": []
    },
    {
      "cell_type": "code",
      "source": [
        "import genesis as gs\n",
        "import numpy as np\n",
        "import mediapy as media\n",
        "from tqdm.notebook import tqdm\n",
        "\n",
        "gs.init(backend=gs.cuda)"
      ],
      "metadata": {
        "id": "NT2fJrwCN0_f"
      },
      "execution_count": null,
      "outputs": []
    }
  ]
}