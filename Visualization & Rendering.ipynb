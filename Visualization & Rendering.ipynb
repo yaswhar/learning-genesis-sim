{
  "nbformat": 4,
  "nbformat_minor": 0,
  "metadata": {
    "colab": {
      "provenance": [],
      "authorship_tag": "ABX9TyNBD+UwoRToH/vDjAnkvfPD",
      "include_colab_link": true
    },
    "kernelspec": {
      "name": "python3",
      "display_name": "Python 3"
    },
    "language_info": {
      "name": "python"
    }
  },
  "cells": [
    {
      "cell_type": "markdown",
      "metadata": {
        "id": "view-in-github",
        "colab_type": "text"
      },
      "source": [
        "<a href=\"https://colab.research.google.com/github/yaswhar/learning-genesis-sim/blob/main/Visualization%20%26%20Rendering.ipynb\" target=\"_parent\"><img src=\"https://colab.research.google.com/assets/colab-badge.svg\" alt=\"Open In Colab\"/></a>"
      ]
    },
    {
      "cell_type": "code",
      "execution_count": null,
      "metadata": {
        "id": "FYhFHZHu4EOU"
      },
      "outputs": [],
      "source": [
        "!pip install genesis-world -q\n",
        "!pip install mediapy -q"
      ]
    },
    {
      "cell_type": "code",
      "source": [
        "import os\n",
        "NVIDIA_ICD_CONFIG_PATH = '/usr/share/glvnd/egl_vendor.d/10_nvidia.json'\n",
        "ICD_CONFIG_CONTENT = \"\"\"{\n",
        "    \"file_format_version\" : \"1.0.0\",\n",
        "    \"ICD\" : {\n",
        "        \"library_path\" : \"libEGL_nvidia.so.0\"\n",
        "    }\n",
        "}\n",
        "\"\"\"\n",
        "with open(NVIDIA_ICD_CONFIG_PATH, 'w') as f:\n",
        "    f.write(ICD_CONFIG_CONTENT)"
      ],
      "metadata": {
        "id": "UtvdvHRL4n2_"
      },
      "execution_count": null,
      "outputs": []
    },
    {
      "cell_type": "code",
      "source": [
        "import genesis as gs\n",
        "import numpy as np\n",
        "import mediapy as media\n",
        "from tqdm.notebook import tqdm\n",
        "\n",
        "gs.init(backend=gs.cuda)"
      ],
      "metadata": {
        "id": "AxrnVQ9D4qft"
      },
      "execution_count": null,
      "outputs": []
    },
    {
      "cell_type": "code",
      "source": [
        "scene = gs.Scene(\n",
        "    show_viewer = True,\n",
        "    viewer_options = gs.options.ViewerOptions(\n",
        "        res           = (1280, 960),\n",
        "        camera_pos    = (3.5, 0.0, 2.5),\n",
        "        camera_lookat = (0.0, 0.0, 0.5),\n",
        "        camera_fov    = 40,\n",
        "        max_FPS       = 60,\n",
        "    ),\n",
        "    vis_options = gs.options.VisOptions(\n",
        "        show_world_frame = True,\n",
        "        world_frame_size = 1.0,\n",
        "        show_link_frame  = False,\n",
        "        show_cameras     = False,\n",
        "        plane_reflection = True,\n",
        "        ambient_light    = (0.1, 0.1, 0.1),\n",
        "    ),\n",
        "    renderer=gs.renderers.Rasterizer(),\n",
        ")\n",
        "\n",
        "plane = scene.add_entity(\n",
        "    gs.morphs.Plane(),\n",
        ")\n",
        "franka = scene.add_entity(\n",
        "    gs.morphs.MJCF(file='xml/franka_emika_panda/panda.xml'),\n",
        ")\n",
        "\n",
        "cam = scene.add_camera(\n",
        "    res    = (640, 480),\n",
        "    pos    = (3.5, 0.0, 2.5),\n",
        "    lookat = (0, 0, 0.5),\n",
        "    fov    = 30,\n",
        "    GUI    = False,\n",
        ")\n",
        "\n",
        "scene.build()"
      ],
      "metadata": {
        "id": "uU10uXF-4tCJ"
      },
      "execution_count": null,
      "outputs": []
    },
    {
      "cell_type": "code",
      "source": [
        "# render rgb, depth, segmentation, and normal\n",
        "# rgb, depth, segmentation, normal = cam.render(rgb=True, depth=True, segmentation=True, normal=True)\n",
        "\n",
        "cam.start_recording()\n",
        "import numpy as np\n",
        "\n",
        "for i in range(120):\n",
        "    scene.step()\n",
        "    cam.set_pose(\n",
        "        pos    = (3.0 * np.sin(i / 60), 3.0 * np.cos(i / 60), 2.5),\n",
        "        lookat = (0, 0, 0.5),\n",
        "    )\n",
        "    cam.render()\n",
        "cam.stop_recording(save_to_filename='video.mp4', fps=60)"
      ],
      "metadata": {
        "id": "89w2vQZg47Ru"
      },
      "execution_count": null,
      "outputs": []
    }
  ]
}